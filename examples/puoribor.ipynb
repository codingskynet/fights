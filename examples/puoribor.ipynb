{
 "cells": [
  {
   "cell_type": "code",
   "execution_count": 36,
   "metadata": {},
   "outputs": [],
   "source": [
    "import sys\n",
    "\n",
    "sys.path.append(\"../\")\n",
    "\n",
    "from fights.envs import puoribor\n",
    "import numpy as np"
   ]
  },
  {
   "cell_type": "code",
   "execution_count": 37,
   "metadata": {},
   "outputs": [],
   "source": [
    "state = puoribor.PuoriborEnv().initialize_state()\n"
   ]
  },
  {
   "cell_type": "code",
   "execution_count": 38,
   "metadata": {},
   "outputs": [],
   "source": [
    "state = puoribor.PuoriborEnv().step(state, 0, np.array([0, 4, 1]))\n",
    "state = puoribor.PuoriborEnv().step(state, 1, np.array([0, 4, 7]))\n",
    "state = puoribor.PuoriborEnv().step(state, 0, np.array([0, 4, 2]))\n",
    "state = puoribor.PuoriborEnv().step(state, 1, np.array([0, 4, 6]))\n",
    "state = puoribor.PuoriborEnv().step(state, 0, np.array([0, 4, 3]))\n",
    "state = puoribor.PuoriborEnv().step(state, 1, np.array([0, 4, 5]))\n",
    "state = puoribor.PuoriborEnv().step(state, 0, np.array([0, 4, 4]))\n",
    "state = puoribor.PuoriborEnv().step(state, 1, np.array([0, 4, 3]))"
   ]
  }
 ],
 "metadata": {
  "kernelspec": {
   "display_name": "Python 3.9.13 64-bit",
   "language": "python",
   "name": "python3"
  },
  "language_info": {
   "codemirror_mode": {
    "name": "ipython",
    "version": 3
   },
   "file_extension": ".py",
   "mimetype": "text/x-python",
   "name": "python",
   "nbconvert_exporter": "python",
   "pygments_lexer": "ipython3",
   "version": "3.9.13"
  },
  "orig_nbformat": 4,
  "vscode": {
   "interpreter": {
    "hash": "b0fa6594d8f4cbf19f97940f81e996739fb7646882a419484c72d19e05852a7e"
   }
  }
 },
 "nbformat": 4,
 "nbformat_minor": 2
}
